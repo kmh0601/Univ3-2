{
 "cells": [
  {
   "cell_type": "code",
   "execution_count": 8,
   "id": "8571e839",
   "metadata": {},
   "outputs": [
    {
     "name": "stdout",
     "output_type": "stream",
     "text": [
      "가위바위보 게임\n",
      "(라운드 1)\n",
      "컴퓨터가 결정했습니다.\n",
      "무엇을 내시겠습니까?(가위, 바위, 보)가위\n",
      "컴퓨터는 보, 당신은 가위, 당신이 이겼습니다.\n",
      "성적 : 1승 0패\n",
      "(라운드 2)\n",
      "컴퓨터가 결정했습니다.\n",
      "무엇을 내시겠습니까?(가위, 바위, 보)바위\n",
      "컴퓨터는 보, 당신은 바위, 컴퓨터가 이겼습니다.\n",
      "성적 : 1승 1패\n",
      "(라운드 3)\n",
      "컴퓨터가 결정했습니다.\n",
      "무엇을 내시겠습니까?(가위, 바위, 보)바\n",
      "잘못 입력했습니다. 다시 입력하세요\n",
      "컴퓨터가 결정했습니다.\n",
      "무엇을 내시겠습니까?(가위, 바위, 보)바위\n",
      "비겼습니다. 다시 입력하세요\n",
      "성적 : 1승 1패\n",
      "(라운드 4)\n",
      "컴퓨터가 결정했습니다.\n",
      "무엇을 내시겠습니까?(가위, 바위, 보)바위\n",
      "비겼습니다. 다시 입력하세요\n",
      "성적 : 1승 1패\n",
      "(라운드 5)\n",
      "컴퓨터가 결정했습니다.\n",
      "무엇을 내시겠습니까?(가위, 바위, 보)가위\n",
      "컴퓨터는 바위, 당신은 가위, 컴퓨터가 이겼습니다.\n",
      "성적 : 1승 2패\n",
      "(라운드 6)\n",
      "컴퓨터가 결정했습니다.\n",
      "무엇을 내시겠습니까?(가위, 바위, 보)보\n",
      "컴퓨터는 바위, 당신은 보, 당신이 이겼습니다.\n",
      "성적 : 2승 2패\n",
      "(라운드 7)\n",
      "컴퓨터가 결정했습니다.\n",
      "무엇을 내시겠습니까?(가위, 바위, 보)보\n",
      "컴퓨터는 가위, 당신은 보, 컴퓨터가 이겼습니다.\n",
      "성적 : 2승 3패\n",
      "컴퓨터가 최종으로 이겼습니다!\n"
     ]
    }
   ],
   "source": [
    "# 1\n",
    "import random\n",
    "comWin = 0\n",
    "myWin = 0\n",
    "gameRound = 1\n",
    "SRP = (\"가위\",\"바위\",\"보\")\n",
    "print(\"{}{}{} 게임\".format(SRP[0],SRP[1],SRP[2]))\n",
    "\n",
    "while comWin < 3 and myWin < 3:\n",
    "    print(\"(라운드 {})\" .format(gameRound))\n",
    "    while True:\n",
    "        print(\"컴퓨터가 결정했습니다.\")\n",
    "        com = SRP[random.randint(0,2)]\n",
    "        my = input(\"무엇을 내시겠습니까?({}, {}, {})\".format(SRP[0],SRP[1],SRP[2]))\n",
    "        \n",
    "        #제대로된 입력인지 확인\n",
    "        if not(my in SRP):\n",
    "            print(\"잘못 입력했습니다. 다시 입력하세요\")\n",
    "            continue\n",
    "        #비김\n",
    "        if my == com:\n",
    "            print(\"비겼습니다. 다시 입력하세요\")\n",
    "        #사용자가 이김\n",
    "        elif (com==SRP[0] and my==SRP[1]) or (com==SRP[1] and my==SRP[2]) or (com==SRP[2] and my==SRP[0]):\n",
    "            print(\"컴퓨터는 {}, 당신은 {}, 당신이 이겼습니다.\".format(com, my))\n",
    "            myWin += 1\n",
    "        #컴퓨터가 이김\n",
    "        else:\n",
    "            print(\"컴퓨터는 {}, 당신은 {}, 컴퓨터가 이겼습니다.\".format(com, my))\n",
    "            comWin += 1\n",
    "        break\n",
    "          \n",
    "    print(\"성적 : {}승 {}패\".format(myWin,comWin))\n",
    "    gameRound += 1\n",
    "\n",
    "if comWin > myWin:\n",
    "    print(\"컴퓨터가 최종으로 이겼습니다!\")\n",
    "else:\n",
    "    print(\"당신이 최종으로 이겼습니다!\")\n"
   ]
  },
  {
   "cell_type": "code",
   "execution_count": 30,
   "id": "11a7eb85",
   "metadata": {
    "scrolled": true
   },
   "outputs": [
    {
     "name": "stdout",
     "output_type": "stream",
     "text": [
      "문장을 입력하세요안녕하세요 제 이름은 권민혁이고 2000년 6월 1일에 태어났습니다.\n",
      "분석된 생년월일 : 2000/06/01\n",
      "문장을 입력하세요안녕하세요 권민혁입니다. 생년월일은 20000601입니다.\n",
      "분석된 생년월일 : 2000/06/01\n",
      "문장을 입력하세요권민혁입니다. 2000/06/01 이 제 생년월일 입니다.\n",
      "분석된 생년월일 : 2000/06/01\n"
     ]
    },
    {
     "ename": "KeyboardInterrupt",
     "evalue": "Interrupted by user",
     "output_type": "error",
     "traceback": [
      "\u001b[0;31m---------------------------------------------------------------------------\u001b[0m",
      "\u001b[0;31mKeyboardInterrupt\u001b[0m                         Traceback (most recent call last)",
      "Input \u001b[0;32mIn [30]\u001b[0m, in \u001b[0;36m<cell line: 2>\u001b[0;34m()\u001b[0m\n\u001b[1;32m      1\u001b[0m \u001b[38;5;28;01mwhile\u001b[39;00m \u001b[38;5;28;01mTrue\u001b[39;00m:\n\u001b[0;32m----> 2\u001b[0m     inputList \u001b[38;5;241m=\u001b[39m \u001b[38;5;28;43minput\u001b[39;49m\u001b[43m(\u001b[49m\u001b[38;5;124;43m\"\u001b[39;49m\u001b[38;5;124;43m문장을 입력하세요\u001b[39;49m\u001b[38;5;124;43m\"\u001b[39;49m\u001b[43m)\u001b[49m\u001b[38;5;241m.\u001b[39msplit(\u001b[38;5;124m\"\u001b[39m\u001b[38;5;124m \u001b[39m\u001b[38;5;124m\"\u001b[39m)\n\u001b[1;32m      3\u001b[0m     \u001b[38;5;28;01mfor\u001b[39;00m i \u001b[38;5;129;01min\u001b[39;00m \u001b[38;5;28mrange\u001b[39m(\u001b[38;5;28mlen\u001b[39m(inputList)):\n\u001b[1;32m      4\u001b[0m         \u001b[38;5;28;01mif\u001b[39;00m \u001b[38;5;124m\"\u001b[39m\u001b[38;5;124m2\u001b[39m\u001b[38;5;124m\"\u001b[39m \u001b[38;5;129;01min\u001b[39;00m inputList[i]:\n",
      "File \u001b[0;32m~/opt/anaconda3/lib/python3.9/site-packages/ipykernel/kernelbase.py:1075\u001b[0m, in \u001b[0;36mKernel.raw_input\u001b[0;34m(self, prompt)\u001b[0m\n\u001b[1;32m   1071\u001b[0m \u001b[38;5;28;01mif\u001b[39;00m \u001b[38;5;129;01mnot\u001b[39;00m \u001b[38;5;28mself\u001b[39m\u001b[38;5;241m.\u001b[39m_allow_stdin:\n\u001b[1;32m   1072\u001b[0m     \u001b[38;5;28;01mraise\u001b[39;00m StdinNotImplementedError(\n\u001b[1;32m   1073\u001b[0m         \u001b[38;5;124m\"\u001b[39m\u001b[38;5;124mraw_input was called, but this frontend does not support input requests.\u001b[39m\u001b[38;5;124m\"\u001b[39m\n\u001b[1;32m   1074\u001b[0m     )\n\u001b[0;32m-> 1075\u001b[0m \u001b[38;5;28;01mreturn\u001b[39;00m \u001b[38;5;28;43mself\u001b[39;49m\u001b[38;5;241;43m.\u001b[39;49m\u001b[43m_input_request\u001b[49m\u001b[43m(\u001b[49m\n\u001b[1;32m   1076\u001b[0m \u001b[43m    \u001b[49m\u001b[38;5;28;43mstr\u001b[39;49m\u001b[43m(\u001b[49m\u001b[43mprompt\u001b[49m\u001b[43m)\u001b[49m\u001b[43m,\u001b[49m\n\u001b[1;32m   1077\u001b[0m \u001b[43m    \u001b[49m\u001b[38;5;28;43mself\u001b[39;49m\u001b[38;5;241;43m.\u001b[39;49m\u001b[43m_parent_ident\u001b[49m\u001b[43m[\u001b[49m\u001b[38;5;124;43m\"\u001b[39;49m\u001b[38;5;124;43mshell\u001b[39;49m\u001b[38;5;124;43m\"\u001b[39;49m\u001b[43m]\u001b[49m\u001b[43m,\u001b[49m\n\u001b[1;32m   1078\u001b[0m \u001b[43m    \u001b[49m\u001b[38;5;28;43mself\u001b[39;49m\u001b[38;5;241;43m.\u001b[39;49m\u001b[43mget_parent\u001b[49m\u001b[43m(\u001b[49m\u001b[38;5;124;43m\"\u001b[39;49m\u001b[38;5;124;43mshell\u001b[39;49m\u001b[38;5;124;43m\"\u001b[39;49m\u001b[43m)\u001b[49m\u001b[43m,\u001b[49m\n\u001b[1;32m   1079\u001b[0m \u001b[43m    \u001b[49m\u001b[43mpassword\u001b[49m\u001b[38;5;241;43m=\u001b[39;49m\u001b[38;5;28;43;01mFalse\u001b[39;49;00m\u001b[43m,\u001b[49m\n\u001b[1;32m   1080\u001b[0m \u001b[43m\u001b[49m\u001b[43m)\u001b[49m\n",
      "File \u001b[0;32m~/opt/anaconda3/lib/python3.9/site-packages/ipykernel/kernelbase.py:1120\u001b[0m, in \u001b[0;36mKernel._input_request\u001b[0;34m(self, prompt, ident, parent, password)\u001b[0m\n\u001b[1;32m   1117\u001b[0m             \u001b[38;5;28;01mbreak\u001b[39;00m\n\u001b[1;32m   1118\u001b[0m \u001b[38;5;28;01mexcept\u001b[39;00m \u001b[38;5;167;01mKeyboardInterrupt\u001b[39;00m:\n\u001b[1;32m   1119\u001b[0m     \u001b[38;5;66;03m# re-raise KeyboardInterrupt, to truncate traceback\u001b[39;00m\n\u001b[0;32m-> 1120\u001b[0m     \u001b[38;5;28;01mraise\u001b[39;00m \u001b[38;5;167;01mKeyboardInterrupt\u001b[39;00m(\u001b[38;5;124m\"\u001b[39m\u001b[38;5;124mInterrupted by user\u001b[39m\u001b[38;5;124m\"\u001b[39m) \u001b[38;5;28;01mfrom\u001b[39;00m \u001b[38;5;28mNone\u001b[39m\n\u001b[1;32m   1121\u001b[0m \u001b[38;5;28;01mexcept\u001b[39;00m \u001b[38;5;167;01mException\u001b[39;00m:\n\u001b[1;32m   1122\u001b[0m     \u001b[38;5;28mself\u001b[39m\u001b[38;5;241m.\u001b[39mlog\u001b[38;5;241m.\u001b[39mwarning(\u001b[38;5;124m\"\u001b[39m\u001b[38;5;124mInvalid Message:\u001b[39m\u001b[38;5;124m\"\u001b[39m, exc_info\u001b[38;5;241m=\u001b[39m\u001b[38;5;28;01mTrue\u001b[39;00m)\n",
      "\u001b[0;31mKeyboardInterrupt\u001b[0m: Interrupted by user"
     ]
    }
   ],
   "source": [
    "#2\n",
    "while True:\n",
    "    inputList = input(\"문장을 입력하세요 : \").split(\" \")\n",
    "    for i in range(len(inputList)):\n",
    "        if \"2\" in inputList[i]:\n",
    "            if \"년\" in inputList[i]:\n",
    "                year = inputList[i][0:4]\n",
    "                month = inputList[i+1].split(\"월\")[0]\n",
    "                day = inputList[i+2].split(\"일\")[0]\n",
    "            elif \"/\" in inputList[i]:\n",
    "                year, month, day = inputList[i].split(\"/\")\n",
    "            else:\n",
    "                year = inputList[i][0:4]\n",
    "                month = inputList[i][4:6]\n",
    "                day = inputList[i][6:8]\n",
    "            break\n",
    "    print(\"분석된 생년월일 : {}/{:02}/{:02}\".format(year, int(month),int(day)))      "
   ]
  },
  {
   "cell_type": "code",
   "execution_count": 45,
   "id": "58c3ab51",
   "metadata": {},
   "outputs": [
    {
     "name": "stdout",
     "output_type": "stream",
     "text": [
      "수식을 입력하세요 : 12+3\n",
      "= 15\n",
      "수식을 입력하세요 : 12-5+6\n",
      "= 13\n",
      "수식을 입력하세요 : 12-6-6-6-6+1\n",
      "= -11\n"
     ]
    },
    {
     "ename": "KeyboardInterrupt",
     "evalue": "Interrupted by user",
     "output_type": "error",
     "traceback": [
      "\u001b[0;31m---------------------------------------------------------------------------\u001b[0m",
      "\u001b[0;31mKeyboardInterrupt\u001b[0m                         Traceback (most recent call last)",
      "Input \u001b[0;32mIn [45]\u001b[0m, in \u001b[0;36m<cell line: 3>\u001b[0;34m()\u001b[0m\n\u001b[1;32m      1\u001b[0m \u001b[38;5;66;03m#3\u001b[39;00m\n\u001b[1;32m      2\u001b[0m \u001b[38;5;28;01mwhile\u001b[39;00m \u001b[38;5;28;01mTrue\u001b[39;00m:\n\u001b[0;32m----> 3\u001b[0m     inputExp \u001b[38;5;241m=\u001b[39m \u001b[38;5;28;43minput\u001b[39;49m\u001b[43m(\u001b[49m\u001b[38;5;124;43m\"\u001b[39;49m\u001b[38;5;124;43m수식을 입력하세요 : \u001b[39;49m\u001b[38;5;124;43m\"\u001b[39;49m\u001b[43m)\u001b[49m\n\u001b[1;32m      4\u001b[0m     tempExp \u001b[38;5;241m=\u001b[39m \u001b[38;5;28mlist\u001b[39m(inputExp\u001b[38;5;241m.\u001b[39msplit(\u001b[38;5;124m\"\u001b[39m\u001b[38;5;124m+\u001b[39m\u001b[38;5;124m\"\u001b[39m))\n\u001b[1;32m      5\u001b[0m     exp \u001b[38;5;241m=\u001b[39m []\n",
      "File \u001b[0;32m~/opt/anaconda3/lib/python3.9/site-packages/ipykernel/kernelbase.py:1075\u001b[0m, in \u001b[0;36mKernel.raw_input\u001b[0;34m(self, prompt)\u001b[0m\n\u001b[1;32m   1071\u001b[0m \u001b[38;5;28;01mif\u001b[39;00m \u001b[38;5;129;01mnot\u001b[39;00m \u001b[38;5;28mself\u001b[39m\u001b[38;5;241m.\u001b[39m_allow_stdin:\n\u001b[1;32m   1072\u001b[0m     \u001b[38;5;28;01mraise\u001b[39;00m StdinNotImplementedError(\n\u001b[1;32m   1073\u001b[0m         \u001b[38;5;124m\"\u001b[39m\u001b[38;5;124mraw_input was called, but this frontend does not support input requests.\u001b[39m\u001b[38;5;124m\"\u001b[39m\n\u001b[1;32m   1074\u001b[0m     )\n\u001b[0;32m-> 1075\u001b[0m \u001b[38;5;28;01mreturn\u001b[39;00m \u001b[38;5;28;43mself\u001b[39;49m\u001b[38;5;241;43m.\u001b[39;49m\u001b[43m_input_request\u001b[49m\u001b[43m(\u001b[49m\n\u001b[1;32m   1076\u001b[0m \u001b[43m    \u001b[49m\u001b[38;5;28;43mstr\u001b[39;49m\u001b[43m(\u001b[49m\u001b[43mprompt\u001b[49m\u001b[43m)\u001b[49m\u001b[43m,\u001b[49m\n\u001b[1;32m   1077\u001b[0m \u001b[43m    \u001b[49m\u001b[38;5;28;43mself\u001b[39;49m\u001b[38;5;241;43m.\u001b[39;49m\u001b[43m_parent_ident\u001b[49m\u001b[43m[\u001b[49m\u001b[38;5;124;43m\"\u001b[39;49m\u001b[38;5;124;43mshell\u001b[39;49m\u001b[38;5;124;43m\"\u001b[39;49m\u001b[43m]\u001b[49m\u001b[43m,\u001b[49m\n\u001b[1;32m   1078\u001b[0m \u001b[43m    \u001b[49m\u001b[38;5;28;43mself\u001b[39;49m\u001b[38;5;241;43m.\u001b[39;49m\u001b[43mget_parent\u001b[49m\u001b[43m(\u001b[49m\u001b[38;5;124;43m\"\u001b[39;49m\u001b[38;5;124;43mshell\u001b[39;49m\u001b[38;5;124;43m\"\u001b[39;49m\u001b[43m)\u001b[49m\u001b[43m,\u001b[49m\n\u001b[1;32m   1079\u001b[0m \u001b[43m    \u001b[49m\u001b[43mpassword\u001b[49m\u001b[38;5;241;43m=\u001b[39;49m\u001b[38;5;28;43;01mFalse\u001b[39;49;00m\u001b[43m,\u001b[49m\n\u001b[1;32m   1080\u001b[0m \u001b[43m\u001b[49m\u001b[43m)\u001b[49m\n",
      "File \u001b[0;32m~/opt/anaconda3/lib/python3.9/site-packages/ipykernel/kernelbase.py:1120\u001b[0m, in \u001b[0;36mKernel._input_request\u001b[0;34m(self, prompt, ident, parent, password)\u001b[0m\n\u001b[1;32m   1117\u001b[0m             \u001b[38;5;28;01mbreak\u001b[39;00m\n\u001b[1;32m   1118\u001b[0m \u001b[38;5;28;01mexcept\u001b[39;00m \u001b[38;5;167;01mKeyboardInterrupt\u001b[39;00m:\n\u001b[1;32m   1119\u001b[0m     \u001b[38;5;66;03m# re-raise KeyboardInterrupt, to truncate traceback\u001b[39;00m\n\u001b[0;32m-> 1120\u001b[0m     \u001b[38;5;28;01mraise\u001b[39;00m \u001b[38;5;167;01mKeyboardInterrupt\u001b[39;00m(\u001b[38;5;124m\"\u001b[39m\u001b[38;5;124mInterrupted by user\u001b[39m\u001b[38;5;124m\"\u001b[39m) \u001b[38;5;28;01mfrom\u001b[39;00m \u001b[38;5;28mNone\u001b[39m\n\u001b[1;32m   1121\u001b[0m \u001b[38;5;28;01mexcept\u001b[39;00m \u001b[38;5;167;01mException\u001b[39;00m:\n\u001b[1;32m   1122\u001b[0m     \u001b[38;5;28mself\u001b[39m\u001b[38;5;241m.\u001b[39mlog\u001b[38;5;241m.\u001b[39mwarning(\u001b[38;5;124m\"\u001b[39m\u001b[38;5;124mInvalid Message:\u001b[39m\u001b[38;5;124m\"\u001b[39m, exc_info\u001b[38;5;241m=\u001b[39m\u001b[38;5;28;01mTrue\u001b[39;00m)\n",
      "\u001b[0;31mKeyboardInterrupt\u001b[0m: Interrupted by user"
     ]
    }
   ],
   "source": [
    "#3\n",
    "while True:\n",
    "    tempExp = list(input(\"수식을 입력하세요 : \").split(\"+\"))\n",
    "    exp = []\n",
    "    for i in tempExp:\n",
    "        if \"-\" in i:\n",
    "            temp = list(map(int,i.split(\"-\")))\n",
    "            sum = temp[0]\n",
    "            for j in temp[1:]:\n",
    "                sum -= j\n",
    "            exp.append(sum)\n",
    "        else:\n",
    "            exp.append(int(i))\n",
    "    \n",
    "    sum = 0\n",
    "    for i in exp:\n",
    "        sum += i\n",
    "    print(\"=\",sum)"
   ]
  },
  {
   "cell_type": "code",
   "execution_count": 54,
   "id": "6e985eea",
   "metadata": {},
   "outputs": [
    {
     "name": "stdout",
     "output_type": "stream",
     "text": [
      "이름>> 홍길동\n",
      "홍길동 010-4444-5555\n",
      "이름>> add\n",
      "이름은? 강감찬\n",
      "전화번호는? 010-9670-1136\n",
      "강감찬 전화번호가 추가되었습니다.\n",
      "이름>> 강감찬\n",
      "강감찬 010-9670-1136\n",
      "이름>> 나\n",
      "찾을 수 없습니다.\n"
     ]
    },
    {
     "ename": "KeyboardInterrupt",
     "evalue": "Interrupted by user",
     "output_type": "error",
     "traceback": [
      "\u001b[0;31m---------------------------------------------------------------------------\u001b[0m",
      "\u001b[0;31mKeyboardInterrupt\u001b[0m                         Traceback (most recent call last)",
      "Input \u001b[0;32mIn [54]\u001b[0m, in \u001b[0;36m<cell line: 4>\u001b[0;34m()\u001b[0m\n\u001b[1;32m      2\u001b[0m phoneNumDict\u001b[38;5;241m=\u001b[39m{\u001b[38;5;124m\"\u001b[39m\u001b[38;5;124m홍길동\u001b[39m\u001b[38;5;124m\"\u001b[39m : \u001b[38;5;124m\"\u001b[39m\u001b[38;5;124m010-4444-5555\u001b[39m\u001b[38;5;124m\"\u001b[39m, \u001b[38;5;124m\"\u001b[39m\u001b[38;5;124m김중앙\u001b[39m\u001b[38;5;124m\"\u001b[39m : \u001b[38;5;124m\"\u001b[39m\u001b[38;5;124m010-9191-8181\u001b[39m\u001b[38;5;124m\"\u001b[39m, \u001b[38;5;124m\"\u001b[39m\u001b[38;5;124m심청\u001b[39m\u001b[38;5;124m\"\u001b[39m : \u001b[38;5;124m\"\u001b[39m\u001b[38;5;124m010-3232-5454\u001b[39m\u001b[38;5;124m\"\u001b[39m}\n\u001b[1;32m      3\u001b[0m \u001b[38;5;28;01mwhile\u001b[39;00m \u001b[38;5;28;01mTrue\u001b[39;00m:\n\u001b[0;32m----> 4\u001b[0m     userInput \u001b[38;5;241m=\u001b[39m \u001b[38;5;28;43minput\u001b[39;49m\u001b[43m(\u001b[49m\u001b[38;5;124;43m\"\u001b[39;49m\u001b[38;5;124;43m이름>> \u001b[39;49m\u001b[38;5;124;43m\"\u001b[39;49m\u001b[43m)\u001b[49m\n\u001b[1;32m      5\u001b[0m     \u001b[38;5;28;01mif\u001b[39;00m userInput \u001b[38;5;241m==\u001b[39m \u001b[38;5;124m\"\u001b[39m\u001b[38;5;124madd\u001b[39m\u001b[38;5;124m\"\u001b[39m:\n\u001b[1;32m      6\u001b[0m         name \u001b[38;5;241m=\u001b[39m \u001b[38;5;28minput\u001b[39m(\u001b[38;5;124m\"\u001b[39m\u001b[38;5;124m이름은? \u001b[39m\u001b[38;5;124m\"\u001b[39m)\n",
      "File \u001b[0;32m~/opt/anaconda3/lib/python3.9/site-packages/ipykernel/kernelbase.py:1075\u001b[0m, in \u001b[0;36mKernel.raw_input\u001b[0;34m(self, prompt)\u001b[0m\n\u001b[1;32m   1071\u001b[0m \u001b[38;5;28;01mif\u001b[39;00m \u001b[38;5;129;01mnot\u001b[39;00m \u001b[38;5;28mself\u001b[39m\u001b[38;5;241m.\u001b[39m_allow_stdin:\n\u001b[1;32m   1072\u001b[0m     \u001b[38;5;28;01mraise\u001b[39;00m StdinNotImplementedError(\n\u001b[1;32m   1073\u001b[0m         \u001b[38;5;124m\"\u001b[39m\u001b[38;5;124mraw_input was called, but this frontend does not support input requests.\u001b[39m\u001b[38;5;124m\"\u001b[39m\n\u001b[1;32m   1074\u001b[0m     )\n\u001b[0;32m-> 1075\u001b[0m \u001b[38;5;28;01mreturn\u001b[39;00m \u001b[38;5;28;43mself\u001b[39;49m\u001b[38;5;241;43m.\u001b[39;49m\u001b[43m_input_request\u001b[49m\u001b[43m(\u001b[49m\n\u001b[1;32m   1076\u001b[0m \u001b[43m    \u001b[49m\u001b[38;5;28;43mstr\u001b[39;49m\u001b[43m(\u001b[49m\u001b[43mprompt\u001b[49m\u001b[43m)\u001b[49m\u001b[43m,\u001b[49m\n\u001b[1;32m   1077\u001b[0m \u001b[43m    \u001b[49m\u001b[38;5;28;43mself\u001b[39;49m\u001b[38;5;241;43m.\u001b[39;49m\u001b[43m_parent_ident\u001b[49m\u001b[43m[\u001b[49m\u001b[38;5;124;43m\"\u001b[39;49m\u001b[38;5;124;43mshell\u001b[39;49m\u001b[38;5;124;43m\"\u001b[39;49m\u001b[43m]\u001b[49m\u001b[43m,\u001b[49m\n\u001b[1;32m   1078\u001b[0m \u001b[43m    \u001b[49m\u001b[38;5;28;43mself\u001b[39;49m\u001b[38;5;241;43m.\u001b[39;49m\u001b[43mget_parent\u001b[49m\u001b[43m(\u001b[49m\u001b[38;5;124;43m\"\u001b[39;49m\u001b[38;5;124;43mshell\u001b[39;49m\u001b[38;5;124;43m\"\u001b[39;49m\u001b[43m)\u001b[49m\u001b[43m,\u001b[49m\n\u001b[1;32m   1079\u001b[0m \u001b[43m    \u001b[49m\u001b[43mpassword\u001b[49m\u001b[38;5;241;43m=\u001b[39;49m\u001b[38;5;28;43;01mFalse\u001b[39;49;00m\u001b[43m,\u001b[49m\n\u001b[1;32m   1080\u001b[0m \u001b[43m\u001b[49m\u001b[43m)\u001b[49m\n",
      "File \u001b[0;32m~/opt/anaconda3/lib/python3.9/site-packages/ipykernel/kernelbase.py:1120\u001b[0m, in \u001b[0;36mKernel._input_request\u001b[0;34m(self, prompt, ident, parent, password)\u001b[0m\n\u001b[1;32m   1117\u001b[0m             \u001b[38;5;28;01mbreak\u001b[39;00m\n\u001b[1;32m   1118\u001b[0m \u001b[38;5;28;01mexcept\u001b[39;00m \u001b[38;5;167;01mKeyboardInterrupt\u001b[39;00m:\n\u001b[1;32m   1119\u001b[0m     \u001b[38;5;66;03m# re-raise KeyboardInterrupt, to truncate traceback\u001b[39;00m\n\u001b[0;32m-> 1120\u001b[0m     \u001b[38;5;28;01mraise\u001b[39;00m \u001b[38;5;167;01mKeyboardInterrupt\u001b[39;00m(\u001b[38;5;124m\"\u001b[39m\u001b[38;5;124mInterrupted by user\u001b[39m\u001b[38;5;124m\"\u001b[39m) \u001b[38;5;28;01mfrom\u001b[39;00m \u001b[38;5;28mNone\u001b[39m\n\u001b[1;32m   1121\u001b[0m \u001b[38;5;28;01mexcept\u001b[39;00m \u001b[38;5;167;01mException\u001b[39;00m:\n\u001b[1;32m   1122\u001b[0m     \u001b[38;5;28mself\u001b[39m\u001b[38;5;241m.\u001b[39mlog\u001b[38;5;241m.\u001b[39mwarning(\u001b[38;5;124m\"\u001b[39m\u001b[38;5;124mInvalid Message:\u001b[39m\u001b[38;5;124m\"\u001b[39m, exc_info\u001b[38;5;241m=\u001b[39m\u001b[38;5;28;01mTrue\u001b[39;00m)\n",
      "\u001b[0;31mKeyboardInterrupt\u001b[0m: Interrupted by user"
     ]
    }
   ],
   "source": [
    "#4\n",
    "phoneNumDict={\"홍길동\" : \"010-4444-5555\", \"김중앙\" : \"010-9191-8181\", \"심청\" : \"010-3232-5454\"}\n",
    "while True:\n",
    "    userInput = input(\"이름>> \")\n",
    "    if userInput == \"add\":\n",
    "        name = input(\"이름은? \")\n",
    "        phoneNum = input(\"전화번호는? \")\n",
    "        phoneNumDict[name] = phoneNum\n",
    "        print(name,\"전화번호가 추가되었습니다.\")\n",
    "    elif phoneNumDict.get(userInput):\n",
    "        print(userInput, phoneNumDict.get(userInput))\n",
    "    else: print(\"찾을 수 없습니다.\")"
   ]
  },
  {
   "cell_type": "code",
   "execution_count": null,
   "id": "9912292a",
   "metadata": {},
   "outputs": [],
   "source": [
    "#5\n",
    "korNum = [\"\",\"\",\"이\",\"삼\",\"사\",\"오\",\"육\",\"칠\",\"팔\",\"구\"]\n",
    "korCur = \"원십백천만\"\n",
    "\n",
    "while True:\n",
    "    inputNum = list(map(int,input(\"숫자는? \")))\n",
    "    curNum = inputNum[:]\n",
    "\n",
    "    count = 0\n",
    "    for i in reversed(range(len(inputNum))):\n",
    "        if count == 3:\n",
    "            inputNum.insert(i+1,\",\")\n",
    "        count += 1\n",
    "\n",
    "    for i in inputNum:\n",
    "        print(i,end=\"\")\n",
    "    print(\" 원\")\n",
    "    cur = len(curNum) - 1\n",
    "    j = 0\n",
    "    for i in korCur[cur::-1]:\n",
    "        print(korNum[curNum[j]],i,sep=\"\",end=\"\")\n",
    "        j+=1\n",
    "    print()"
   ]
  },
  {
   "cell_type": "code",
   "execution_count": 85,
   "id": "5630fc19",
   "metadata": {},
   "outputs": [
    {
     "name": "stdout",
     "output_type": "stream",
     "text": [
      "단어(apple):eleven\n",
      "1점 획득. 현재 점수 1점\n",
      "단어(eleven):naver\n",
      "1점 획득. 현재 점수 2점\n",
      "단어(naver):red\n",
      "1점 획득. 현재 점수 3점\n",
      "단어(red):door\n",
      "1점 획득. 현재 점수 4점\n",
      "단어(door):red\n",
      "이미 나온 단어입니다(-1) 현재 점수 3점\n",
      "단어(door):yello\n",
      "끝말잇기가 안됩니다(-1) 현재 점수 2점\n",
      "단어(door):yellow\n",
      "끝말잇기가 안됩니다(-1) 현재 점수 1점\n",
      "단어(door):right\n",
      "1점 획득. 현재 점수 2점\n"
     ]
    },
    {
     "ename": "KeyboardInterrupt",
     "evalue": "Interrupted by user",
     "output_type": "error",
     "traceback": [
      "\u001b[0;31m---------------------------------------------------------------------------\u001b[0m",
      "\u001b[0;31mKeyboardInterrupt\u001b[0m                         Traceback (most recent call last)",
      "Input \u001b[0;32mIn [85]\u001b[0m, in \u001b[0;36m<cell line: 6>\u001b[0;34m()\u001b[0m\n\u001b[1;32m      5\u001b[0m game \u001b[38;5;241m=\u001b[39m \u001b[38;5;241m0\u001b[39m\n\u001b[1;32m      6\u001b[0m \u001b[38;5;28;01mwhile\u001b[39;00m count \u001b[38;5;241m<\u001b[39m \u001b[38;5;241m10\u001b[39m:\n\u001b[0;32m----> 7\u001b[0m     userWord \u001b[38;5;241m=\u001b[39m \u001b[38;5;28;43minput\u001b[39;49m\u001b[43m(\u001b[49m\u001b[38;5;124;43m\"\u001b[39;49m\u001b[38;5;124;43m단어(\u001b[39;49m\u001b[38;5;132;43;01m{}\u001b[39;49;00m\u001b[38;5;124;43m):\u001b[39;49m\u001b[38;5;124;43m\"\u001b[39;49m\u001b[38;5;241;43m.\u001b[39;49m\u001b[43mformat\u001b[49m\u001b[43m(\u001b[49m\u001b[43mcomWord\u001b[49m\u001b[43m)\u001b[49m\u001b[43m)\u001b[49m\n\u001b[1;32m      8\u001b[0m     \u001b[38;5;28;01mif\u001b[39;00m comWord[\u001b[38;5;241m-\u001b[39m\u001b[38;5;241m1\u001b[39m] \u001b[38;5;241m==\u001b[39m userWord[\u001b[38;5;241m0\u001b[39m]:\n\u001b[1;32m      9\u001b[0m         \u001b[38;5;28;01mif\u001b[39;00m userWord \u001b[38;5;129;01min\u001b[39;00m wordList:\n",
      "File \u001b[0;32m~/opt/anaconda3/lib/python3.9/site-packages/ipykernel/kernelbase.py:1075\u001b[0m, in \u001b[0;36mKernel.raw_input\u001b[0;34m(self, prompt)\u001b[0m\n\u001b[1;32m   1071\u001b[0m \u001b[38;5;28;01mif\u001b[39;00m \u001b[38;5;129;01mnot\u001b[39;00m \u001b[38;5;28mself\u001b[39m\u001b[38;5;241m.\u001b[39m_allow_stdin:\n\u001b[1;32m   1072\u001b[0m     \u001b[38;5;28;01mraise\u001b[39;00m StdinNotImplementedError(\n\u001b[1;32m   1073\u001b[0m         \u001b[38;5;124m\"\u001b[39m\u001b[38;5;124mraw_input was called, but this frontend does not support input requests.\u001b[39m\u001b[38;5;124m\"\u001b[39m\n\u001b[1;32m   1074\u001b[0m     )\n\u001b[0;32m-> 1075\u001b[0m \u001b[38;5;28;01mreturn\u001b[39;00m \u001b[38;5;28;43mself\u001b[39;49m\u001b[38;5;241;43m.\u001b[39;49m\u001b[43m_input_request\u001b[49m\u001b[43m(\u001b[49m\n\u001b[1;32m   1076\u001b[0m \u001b[43m    \u001b[49m\u001b[38;5;28;43mstr\u001b[39;49m\u001b[43m(\u001b[49m\u001b[43mprompt\u001b[49m\u001b[43m)\u001b[49m\u001b[43m,\u001b[49m\n\u001b[1;32m   1077\u001b[0m \u001b[43m    \u001b[49m\u001b[38;5;28;43mself\u001b[39;49m\u001b[38;5;241;43m.\u001b[39;49m\u001b[43m_parent_ident\u001b[49m\u001b[43m[\u001b[49m\u001b[38;5;124;43m\"\u001b[39;49m\u001b[38;5;124;43mshell\u001b[39;49m\u001b[38;5;124;43m\"\u001b[39;49m\u001b[43m]\u001b[49m\u001b[43m,\u001b[49m\n\u001b[1;32m   1078\u001b[0m \u001b[43m    \u001b[49m\u001b[38;5;28;43mself\u001b[39;49m\u001b[38;5;241;43m.\u001b[39;49m\u001b[43mget_parent\u001b[49m\u001b[43m(\u001b[49m\u001b[38;5;124;43m\"\u001b[39;49m\u001b[38;5;124;43mshell\u001b[39;49m\u001b[38;5;124;43m\"\u001b[39;49m\u001b[43m)\u001b[49m\u001b[43m,\u001b[49m\n\u001b[1;32m   1079\u001b[0m \u001b[43m    \u001b[49m\u001b[43mpassword\u001b[49m\u001b[38;5;241;43m=\u001b[39;49m\u001b[38;5;28;43;01mFalse\u001b[39;49;00m\u001b[43m,\u001b[49m\n\u001b[1;32m   1080\u001b[0m \u001b[43m\u001b[49m\u001b[43m)\u001b[49m\n",
      "File \u001b[0;32m~/opt/anaconda3/lib/python3.9/site-packages/ipykernel/kernelbase.py:1120\u001b[0m, in \u001b[0;36mKernel._input_request\u001b[0;34m(self, prompt, ident, parent, password)\u001b[0m\n\u001b[1;32m   1117\u001b[0m             \u001b[38;5;28;01mbreak\u001b[39;00m\n\u001b[1;32m   1118\u001b[0m \u001b[38;5;28;01mexcept\u001b[39;00m \u001b[38;5;167;01mKeyboardInterrupt\u001b[39;00m:\n\u001b[1;32m   1119\u001b[0m     \u001b[38;5;66;03m# re-raise KeyboardInterrupt, to truncate traceback\u001b[39;00m\n\u001b[0;32m-> 1120\u001b[0m     \u001b[38;5;28;01mraise\u001b[39;00m \u001b[38;5;167;01mKeyboardInterrupt\u001b[39;00m(\u001b[38;5;124m\"\u001b[39m\u001b[38;5;124mInterrupted by user\u001b[39m\u001b[38;5;124m\"\u001b[39m) \u001b[38;5;28;01mfrom\u001b[39;00m \u001b[38;5;28mNone\u001b[39m\n\u001b[1;32m   1121\u001b[0m \u001b[38;5;28;01mexcept\u001b[39;00m \u001b[38;5;167;01mException\u001b[39;00m:\n\u001b[1;32m   1122\u001b[0m     \u001b[38;5;28mself\u001b[39m\u001b[38;5;241m.\u001b[39mlog\u001b[38;5;241m.\u001b[39mwarning(\u001b[38;5;124m\"\u001b[39m\u001b[38;5;124mInvalid Message:\u001b[39m\u001b[38;5;124m\"\u001b[39m, exc_info\u001b[38;5;241m=\u001b[39m\u001b[38;5;28;01mTrue\u001b[39;00m)\n",
      "\u001b[0;31mKeyboardInterrupt\u001b[0m: Interrupted by user"
     ]
    }
   ],
   "source": [
    "#6\n",
    "comWord = \"apple\"\n",
    "wordList = []\n",
    "point = 0\n",
    "game = 0\n",
    "while count < 10:\n",
    "    userWord = input(\"단어({}):\".format(comWord))\n",
    "    if comWord[-1] == userWord[0]:\n",
    "        if userWord in wordList:\n",
    "            point -= 1\n",
    "            print(\"이미 나온 단어입니다(-1) 현재 점수 {}점\".format(point))\n",
    "        else:\n",
    "            point += 1\n",
    "            print(\"1점 획득. 현재 점수 {}점\".format(point))\n",
    "            wordList.append(userWord)\n",
    "            comWord = userWord\n",
    "    else:\n",
    "        point -= 1\n",
    "        print(\"끝말잇기가 안됩니다(-1) 현재 점수 {}점\".format(point))\n",
    "    game += 1"
   ]
  },
  {
   "cell_type": "code",
   "execution_count": 97,
   "id": "1ba63693",
   "metadata": {},
   "outputs": [
    {
     "name": "stdout",
     "output_type": "stream",
     "text": [
      "pi = 3.1415926364498823\n",
      "math.pi의 값 = 3.141592653589793\n",
      "반복한 횟수 : 58342172회\n"
     ]
    }
   ],
   "source": [
    "#7\n",
    "import time\n",
    "import math\n",
    "count = 0\n",
    "n = 1\n",
    "pi = 0\n",
    "startTime = time.time()\n",
    "while time.time()-startTime < 30:\n",
    "    if count%2:\n",
    "        pi -= (1/n)\n",
    "    else: pi += (1/n)\n",
    "    n += 2\n",
    "    count += 1\n",
    "pi = pi*4\n",
    "print(\"pi = {}\".format(pi))\n",
    "print(\"math.pi의 값 = {}\".format(math.pi))\n",
    "print(\"반복한 횟수 : {}회\".format(count))"
   ]
  },
  {
   "cell_type": "code",
   "execution_count": 55,
   "id": "de556775",
   "metadata": {},
   "outputs": [
    {
     "name": "stdout",
     "output_type": "stream",
     "text": [
      "숫자? 3 4.5 5 9.1 3.1 5.5 8 2\n",
      "정수 [3, 5, 8, 2]의 합계 = 18\n",
      "실수 [4.5, 9.1, 3.1, 5.5]의 합계 = 22.2\n"
     ]
    }
   ],
   "source": [
    "#8\n",
    "sumInt = 0\n",
    "sumFloat = 0\n",
    "intList = []\n",
    "floatList = []\n",
    "numList = list(map(float,input(\"숫자? \").split(\" \")))\n",
    "for i in numList:\n",
    "    if i - int(i) > 0:\n",
    "        sumFloat += i\n",
    "        floatList.append(i)\n",
    "    else:\n",
    "        sumInt += int(i)\n",
    "        intList.append(int(i))\n",
    "print(\"정수\",intList,end=\"\")\n",
    "print(\"의 합계 =\",sumInt)\n",
    "print(\"실수\",floatList,end=\"\")\n",
    "print(\"의 합계 =\",sumFloat)"
   ]
  },
  {
   "cell_type": "code",
   "execution_count": 102,
   "id": "33767cbd",
   "metadata": {},
   "outputs": [
    {
     "name": "stdout",
     "output_type": "stream",
     "text": [
      "횟수? 1000\n",
      " 1~ 10 : ************    (11.9%)\n",
      "11~ 20 : **********      (10.1%)\n",
      "21~ 30 : **********      ( 9.6%)\n",
      "31~ 40 : *********       ( 8.7%)\n",
      "41~ 50 : ***********     (10.6%)\n",
      "51~ 60 : *********       ( 9.0%)\n",
      "61~ 70 : ***********     (10.7%)\n",
      "71~ 80 : **********      ( 9.5%)\n",
      "81~ 90 : **********      ( 9.5%)\n",
      "91~100 : **********      (10.4%)\n"
     ]
    }
   ],
   "source": [
    "# 9 \n",
    "import random\n",
    "n = int(input(\"횟수? \"))\n",
    "randomInt = []\n",
    "distribution = [0]*10\n",
    "ratio = []\n",
    "for i in range(n):\n",
    "    randomInt.append(random.randint(1,100))\n",
    "for j in range(10):\n",
    "    for i in range(10*j+1,10*(j+1)+1):\n",
    "        distribution[j] = distribution[j]+randomInt.count(i)\n",
    "for i in range(10):\n",
    "    ratio = round(100*(distribution[i]/n),1)\n",
    "    line = \"*\"*round(ratio)\n",
    "    print(\"%2d~%3d :\"%(10*i+1,10*(i+1)),end=\" \")\n",
    "    print(\"%-16s\"%line,end=\"\")\n",
    "    print(\"(%4.1f%%)\"%ratio)"
   ]
  },
  {
   "cell_type": "code",
   "execution_count": 103,
   "id": "285d8682",
   "metadata": {},
   "outputs": [
    {
     "name": "stdout",
     "output_type": "stream",
     "text": [
      "문장 ? hello world\n",
      "모음    -  -  -   \n",
      "문장 ? python is good\n",
      "모음       -  -   -- \n",
      "문장 ? visual programming is good\n",
      "모음    - --    -  -  -   -   -- \n",
      "문장 ? end\n"
     ]
    }
   ],
   "source": [
    "#10\n",
    "vowel = [\"a\",\"e\",\"i\",\"o\",\"u\"]\n",
    "while True:\n",
    "    inputStr = input(\"문장 ? \")\n",
    "    if inputStr == \"end\": break\n",
    "    print(\"모음   \",end=\"\")\n",
    "    for i in inputStr:\n",
    "        if i in vowel:\n",
    "            print(\"-\",end=\"\")\n",
    "        else: print(\" \",end=\"\")\n",
    "    print()"
   ]
  },
  {
   "cell_type": "code",
   "execution_count": null,
   "id": "135c4532",
   "metadata": {},
   "outputs": [],
   "source": []
  }
 ],
 "metadata": {
  "kernelspec": {
   "display_name": "Python 3 (ipykernel)",
   "language": "python",
   "name": "python3"
  },
  "language_info": {
   "codemirror_mode": {
    "name": "ipython",
    "version": 3
   },
   "file_extension": ".py",
   "mimetype": "text/x-python",
   "name": "python",
   "nbconvert_exporter": "python",
   "pygments_lexer": "ipython3",
   "version": "3.9.12"
  }
 },
 "nbformat": 4,
 "nbformat_minor": 5
}
