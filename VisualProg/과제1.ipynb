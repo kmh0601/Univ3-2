{
 "cells": [
  {
   "cell_type": "code",
   "execution_count": 8,
   "id": "e934c5db",
   "metadata": {},
   "outputs": [
    {
     "name": "stdout",
     "output_type": "stream",
     "text": [
      "숫자를 입력하세요 2\n",
      "=>  2\n",
      "숫자를 입력하세요3\n",
      "=>  3\n",
      "숫자를 입력하세요-2\n",
      "=>  2\n",
      "숫자를 입력하세요-12312321\n",
      "=>  12312321\n",
      "숫자를 입력하세요12321345124214\n",
      "=>  12321345124214\n",
      "숫자를 입력하세요0\n"
     ]
    }
   ],
   "source": [
    "# 1\n",
    "n = int(input(\"숫자를 입력하세요 \"))\n",
    "\n",
    "while n != 0 :\n",
    "    result = int((n**2)**(1/2))\n",
    "    print(\"=> \", result)\n",
    "    \n",
    "    n = int(input(\"숫자를 입력하세요\"))"
   ]
  },
  {
   "cell_type": "code",
   "execution_count": 9,
   "id": "ba29c973",
   "metadata": {},
   "outputs": [
    {
     "name": "stdout",
     "output_type": "stream",
     "text": [
      "동을 입력하세요.상도동\n",
      "3번째 동입니다.\n",
      "동을 입력하세요.포동포동\n",
      "새로운 동명입니다. 6번째 동으로 등록합니다.\n",
      "동을 입력하세요.포동포동\n",
      "6번째 동입니다.\n",
      "동을 입력하세요.노량진동\n",
      "4번째 동입니다.\n",
      "동을 입력하세요.종료\n"
     ]
    }
   ],
   "source": [
    "# 2\n",
    "dong = [\"흑석동\",\"사당동\",\"상도동\",\"노량진동\",\"규동\"]\n",
    "n = input(\"동을 입력하세요.\")\n",
    "\n",
    "while n != \"종료\" :\n",
    "    if n in dong:\n",
    "        print(\"%d번째 동입니다.\" % (dong.index(n)+1))\n",
    "    else:\n",
    "        dong.append(n)\n",
    "        print(\"새로운 동명입니다. %d번째 동으로 등록합니다.\" % len(dong))\n",
    "    \n",
    "    n = input(\"동을 입력하세요.\")\n"
   ]
  },
  {
   "cell_type": "code",
   "execution_count": 10,
   "id": "f2a43527",
   "metadata": {},
   "outputs": [
    {
     "name": "stdout",
     "output_type": "stream",
     "text": [
      "수?1111\n",
      "대칭수 입니다.\n",
      "수?121212122121221\n",
      "대칭수가 아닙니다.\n",
      "수?789456123321654987\n",
      "대칭수 입니다.\n",
      "수?1\n",
      "대칭수 입니다.\n",
      "수?0\n"
     ]
    }
   ],
   "source": [
    "# 3\n",
    "n = input(\"수?\")\n",
    "isPalNum = True\n",
    "\n",
    "while n != \"0\":\n",
    "    for i in range(int(len(n)/2)):\n",
    "        if n[i] == n[-i-1]:\n",
    "            pass\n",
    "        else:\n",
    "            isPalNum = False\n",
    "            break\n",
    "            \n",
    "    if isPalNum == True:\n",
    "        print(\"대칭수 입니다.\")\n",
    "    else:\n",
    "        print(\"대칭수가 아닙니다.\")\n",
    "        \n",
    "    n = input(\"수?\")\n",
    "    isPalNum = True"
   ]
  },
  {
   "cell_type": "code",
   "execution_count": 11,
   "id": "3cc28b36",
   "metadata": {},
   "outputs": [
    {
     "name": "stdout",
     "output_type": "stream",
     "text": [
      "데이터를 입력하세요(입력을 마치려면 0을 입력하세요) \n",
      "4\n",
      "6\n",
      "7\n",
      "1\n",
      "5\n",
      "9\n",
      "0\n",
      "1 4 5 6 7 9 "
     ]
    }
   ],
   "source": [
    "# 4\n",
    "n = int(input(\"데이터를 입력하세요(입력을 마치려면 0을 입력하세요) \\n\"))\n",
    "sortList = []\n",
    "\n",
    "while n != 0:\n",
    "    sortList.append(n)\n",
    "    n = int(input())\n",
    "    \n",
    "sortList.sort()\n",
    "\n",
    "for i in sortList:\n",
    "    print(i, end =\" \")"
   ]
  },
  {
   "cell_type": "code",
   "execution_count": 47,
   "id": "2004b535",
   "metadata": {},
   "outputs": [
    {
     "name": "stdout",
     "output_type": "stream",
     "text": [
      "키(cm)는?176\n",
      "몸무게(kg)는?72\n",
      "BMI는 23.24로 정상입니다.\n"
     ]
    }
   ],
   "source": [
    "# 5\n",
    "h = int(input(\"키(cm)는?\"))\n",
    "w = int(input(\"몸무게(kg)는?\"))\n",
    "\n",
    "bmi = w / (h*0.01)**2\n",
    "\n",
    "if bmi < 20:\n",
    "    state = \"저체중\"\n",
    "elif 20 <= bmi < 25:\n",
    "    state = \"정상\"\n",
    "elif 25 <= bim < 30:\n",
    "    state = \"과체중\"\n",
    "else :\n",
    "    state = \"비만\"\n",
    "    \n",
    "print(\"BMI는 {:.2f}로 {}입니다.\".format(bmi,state))"
   ]
  },
  {
   "cell_type": "code",
   "execution_count": 53,
   "id": "a2f0b909",
   "metadata": {},
   "outputs": [
    {
     "name": "stdout",
     "output_type": "stream",
     "text": [
      "원금을 입력하세요(원). 1000\n",
      "금리를 입력하세요(%). 5\n",
      "원금 1000원 금리 5% 입니다.\n",
      "기간 합계\n",
      "1년 1050.0\n",
      "2년 1102.5\n",
      "3년 1157.6\n",
      "4년 1215.5\n",
      "5년 1276.3\n",
      "6년 1340.1\n",
      "7년 1407.1\n",
      "8년 1477.5\n",
      "9년 1551.3\n",
      "10년 1628.9\n",
      "11년 1710.3\n",
      "12년 1795.9\n",
      "13년 1885.6\n",
      "14년 1979.9\n",
      "15년 2078.9\n",
      "16년 2182.9\n",
      "17년 2292.0\n",
      "18년 2406.6\n",
      "19년 2527.0\n",
      "20년 2653.3\n"
     ]
    }
   ],
   "source": [
    "# 6\n",
    "w = int(input(\"원금을 입력하세요(원). \"))\n",
    "r = int(input(\"금리를 입력하세요(%). \"))\n",
    "\n",
    "print(\"원금 {}원 금리 {}% 입니다.\".format(w,r))\n",
    "\n",
    "print(\"기간 합계\")\n",
    "r = 1 + r*0.01\n",
    "for i in range(1,21):\n",
    "    w *= r\n",
    "    print(\"{}년 {:.1f}\".format(i,w))"
   ]
  },
  {
   "cell_type": "code",
   "execution_count": 12,
   "id": "b48ab24b",
   "metadata": {},
   "outputs": [
    {
     "name": "stdout",
     "output_type": "stream",
     "text": [
      "가위바위보 게임\n",
      "(라운드 1)\n",
      "컴퓨터가 결정했습니다.\n",
      "무엇을 내시겠습니까?(가위, 바위, 보)가이ㅜ\n",
      "잘못 입력했습니다. 다시 입력하세요\n",
      "컴퓨터가 결정했습니다.\n",
      "무엇을 내시겠습니까?(가위, 바위, 보)가위\n",
      "컴퓨터는 바위, 당신은 가위, 컴퓨터가 이겼습니다.\n",
      "성적 : 0승 1패\n",
      "(라운드 2)\n",
      "컴퓨터가 결정했습니다.\n",
      "무엇을 내시겠습니까?(가위, 바위, 보)가위\n",
      "비겼습니다. 다시 입력하세요\n",
      "컴퓨터가 결정했습니다.\n",
      "무엇을 내시겠습니까?(가위, 바위, 보)바위\n",
      "비겼습니다. 다시 입력하세요\n",
      "컴퓨터가 결정했습니다.\n",
      "무엇을 내시겠습니까?(가위, 바위, 보)보\n",
      "비겼습니다. 다시 입력하세요\n",
      "컴퓨터가 결정했습니다.\n",
      "무엇을 내시겠습니까?(가위, 바위, 보)보\n",
      "비겼습니다. 다시 입력하세요\n",
      "컴퓨터가 결정했습니다.\n",
      "무엇을 내시겠습니까?(가위, 바위, 보)보\n",
      "컴퓨터는 가위, 당신은 보, 컴퓨터가 이겼습니다.\n",
      "성적 : 0승 2패\n",
      "(라운드 3)\n",
      "컴퓨터가 결정했습니다.\n",
      "무엇을 내시겠습니까?(가위, 바위, 보)보\n",
      "컴퓨터는 바위, 당신은 보, 당신이 이겼습니다.\n",
      "성적 : 1승 2패\n",
      "(라운드 4)\n",
      "컴퓨터가 결정했습니다.\n",
      "무엇을 내시겠습니까?(가위, 바위, 보)바위\n",
      "컴퓨터는 보, 당신은 바위, 컴퓨터가 이겼습니다.\n",
      "성적 : 1승 3패\n",
      "컴퓨터가 최종으로 이겼습니다!\n"
     ]
    }
   ],
   "source": [
    "# 7\n",
    "import random\n",
    "comWin = 0\n",
    "myWin = 0\n",
    "gameRound = 1\n",
    "SRP = {1:\"가위\", 2:\"바위\",3:\"보\"}\n",
    "print(\"가위바위보 게임\")\n",
    "\n",
    "while comWin < 3 and myWin < 3:\n",
    "    print(\"(라운드 {})\" .format(gameRound))\n",
    "    while True:\n",
    "        print(\"컴퓨터가 결정했습니다.\")\n",
    "        com = SRP[random.randint(1,3)]\n",
    "        my = input(\"무엇을 내시겠습니까?(가위, 바위, 보)\")\n",
    "          \n",
    "        if my == \"가위\":\n",
    "                if com == \"가위\":\n",
    "                    #비김\n",
    "                    print(\"비겼습니다. 다시 입력하세요\")\n",
    "                elif com == \"바위\":\n",
    "                    #컴 이김\n",
    "                    print(\"컴퓨터는 {}, 당신은 {}, 컴퓨터가 이겼습니다.\".format(com, my))\n",
    "                    comWin += 1\n",
    "                    break\n",
    "                elif com == \"보\":\n",
    "                    #컴 짐\n",
    "                    print(\"컴퓨터는 {}, 당신은 {}, 당신이 이겼습니다.\".format(com,my))\n",
    "                    myWin += 1\n",
    "                    break\n",
    "          \n",
    "        elif my == \"바위\":\n",
    "                if com == \"바위\":\n",
    "                    #비김\n",
    "                    print(\"비겼습니다. 다시 입력하세요\")\n",
    "                elif com == \"보\":\n",
    "                    #컴 이김\n",
    "                    print(\"컴퓨터는 {}, 당신은 {}, 컴퓨터가 이겼습니다.\".format(com, my))\n",
    "                    comWin += 1\n",
    "                    break\n",
    "                elif com == \"가위\":\n",
    "                    #컴 짐\n",
    "                    print(\"컴퓨터는 {}, 당신은 {}, 당신이 이겼습니다.\".format(com,my))\n",
    "                    myWin += 1\n",
    "                    break\n",
    "          \n",
    "        elif my == \"보\":\n",
    "                if com == \"보\":\n",
    "                    #비김\n",
    "                    print(\"비겼습니다. 다시 입력하세요\")\n",
    "                elif com == \"가위\":\n",
    "                    #컴 이김\n",
    "                    print(\"컴퓨터는 {}, 당신은 {}, 컴퓨터가 이겼습니다.\".format(com, my))\n",
    "                    comWin += 1\n",
    "                    break\n",
    "                elif com == \"바위\":\n",
    "                    #컴 짐\n",
    "                    print(\"컴퓨터는 {}, 당신은 {}, 당신이 이겼습니다.\".format(com,my))\n",
    "                    myWin += 1\n",
    "                    break\n",
    "        else:\n",
    "                print(\"잘못 입력했습니다. 다시 입력하세요\")\n",
    "          \n",
    "    print(\"성적 : {}승 {}패\".format(myWin,comWin))\n",
    "    gameRound += 1\n",
    "\n",
    "if comWin > myWin:\n",
    "    print(\"컴퓨터가 최종으로 이겼습니다!\")\n",
    "else:\n",
    "    print(\"당신이 최종으로 이겼습니다!\")"
   ]
  },
  {
   "cell_type": "code",
   "execution_count": 3,
   "id": "d1cf2e84",
   "metadata": {},
   "outputs": [
    {
     "name": "stdout",
     "output_type": "stream",
     "text": [
      "N?4\n",
      "M?(M-N이 0이상 3이하 이어야 합니다.)6\n",
      "4x1=4\t\t5x1=5\t\t6x1=6\t\t\n",
      "4x2=8\t\t5x2=10\t\t6x2=12\t\t\n",
      "4x3=12\t\t5x3=15\t\t6x3=18\t\t\n",
      "4x4=16\t\t5x4=20\t\t6x4=24\t\t\n",
      "4x5=20\t\t5x5=25\t\t6x5=30\t\t\n",
      "4x6=24\t\t5x6=30\t\t6x6=36\t\t\n",
      "4x7=28\t\t5x7=35\t\t6x7=42\t\t\n",
      "4x8=32\t\t5x8=40\t\t6x8=48\t\t\n",
      "4x9=36\t\t5x9=45\t\t6x9=54\t\t\n"
     ]
    }
   ],
   "source": [
    "# 8\n",
    "n = int(input(\"N?\"))\n",
    "m = int(input(\"M?(M-N이 0이상 3이하 이어야 합니다.)\"))\n",
    "for i in range(1,10):\n",
    "    for j in range(n,m+1):\n",
    "        print(\"{}x{}={}\".format(j,i,i*j),end=\"\\t\\t\")\n",
    "    print()"
   ]
  },
  {
   "cell_type": "code",
   "execution_count": 24,
   "id": "8cd844d6",
   "metadata": {},
   "outputs": [
    {
     "name": "stdout",
     "output_type": "stream",
     "text": [
      "문장 : hello world\n",
      "암호화된 문장 : jgnnq yqtnf\n"
     ]
    }
   ],
   "source": [
    "# 9\n",
    "# 입력받은 문자를 두 칸 뒤의 알파벳으로 교체\n",
    "target = list(input(\"문장 : \"))\n",
    "for i in range(len(target)):\n",
    "    if target[i] != \" \":\n",
    "        target[i] = chr(ord(target[i])+2)\n",
    "print(\"암호화된 문장 :\",\"\".join(target))"
   ]
  },
  {
   "cell_type": "code",
   "execution_count": 7,
   "id": "01acf7c5",
   "metadata": {},
   "outputs": [
    {
     "name": "stdout",
     "output_type": "stream",
     "text": [
      "자기장 생성기를 찾으세요(크기15)\n",
      "좌표는?50 50\n",
      "(50,50)은 자기장 밖입니다. 자기장 생성기에 가까워졌습니다.(크기15)\n",
      "좌표는?45 45\n",
      "(45,45)은 자기장 밖입니다. 자기장 생성기에서 멀어졌습니다.(크기14.5)\n",
      "좌표는?50 70\n",
      "(50,70)은 자기장 밖입니다. 자기장 생성기에 가까워졌습니다.(크기14.0)\n",
      "좌표는?60 70\n",
      "(60,70)은 자기장 안입니다. 자기장 생성기에 가까워졌습니다.(크기13.5)\n",
      "좌표는?70 70\n",
      "(70,70)은 자기장 안입니다. 자기장 생성기에서 멀어졌습니다.(크기13.0)\n",
      "좌표는?65 70\n",
      "(65,70)은 자기장 안입니다. 자기장 생성기에 가까워졌습니다.(크기12.5)\n",
      "좌표는?66 72\n",
      "(66,72)은 자기장 안입니다. 자기장 생성기에 가까워졌습니다.(크기12.0)\n",
      "좌표는?67 73\n",
      "(67,73)은 자기장 안입니다. 자기장 생성기에 가까워졌습니다.(크기11.5)\n",
      "좌표는?68 74\n",
      "(68,74)은 자기장 안입니다. 자기장 생성기에 가까워졌습니다.(크기11.0)\n",
      "좌표는?68 77\n",
      "(68,77)은 자기장 안입니다. 자기장 생성기에 가까워졌습니다.(크기10.5)\n",
      "좌표는?68 80\n",
      "(68,80)은 자기장 안입니다. 자기장 생성기에서 멀어졌습니다.(크기10.0)\n",
      "좌표는?68 78\n",
      "(68,78)은 자기장 안입니다. 자기장 생성기에 가까워졌습니다.(크기9.5)\n",
      "좌표는?69 79\n",
      "(69,79)은 자기장 안입니다. 자기장 생성기에서 멀어졌습니다.(크기9.0)\n",
      "좌표는?68 79\n",
      "(68,79)은 자기장 안입니다. 자기장 생성기에 가까워졌습니다.(크기8.5)\n",
      "좌표는?68 80\n",
      "(68,80)은 자기장 안입니다. 자기장 생성기에서 멀어졌습니다.(크기8.0)\n",
      "좌표는?67 79\n",
      "(67,79)은 자기장 안입니다. 자기장 생성기에 가까워졌습니다.(크기7.5)\n",
      "좌표는?66 79\n",
      "(66,79)은 자기장 안입니다. 자기장 생성기에 가까워졌습니다.(크기7.0)\n",
      "좌표는?64 79\n",
      "(64,79)은 자기장 안입니다. 자기장 생성기를 찾았습니다.(거리 1.0)\n",
      "자기장 생성기의 좌표는(64,78)입니다. 오늘은 치킨이닭!\n"
     ]
    }
   ],
   "source": [
    "# 10\n",
    "import random\n",
    "import math\n",
    "\n",
    "mfSize = 15\n",
    "distance = math.inf\n",
    "mfX = random.randint(20,80)\n",
    "mfY = random.randint(20,80)\n",
    "\n",
    "print(\"자기장 생성기를 찾으세요(크기{})\".format(mfSize))\n",
    "while mfSize > 0:\n",
    "    myX, myY = map(int,input(\"좌표는?\").split())\n",
    "    tempDistance = math.sqrt((mfX-myX)**2 + (mfY-myY)**2)\n",
    "    \n",
    "    if(tempDistance <= 1.5):\n",
    "        print(\"({},{})은 자기장 안입니다. 자기장 생성기를 찾았습니다.(거리 {:.1f})\".format(myX,myY,tempDistance))\n",
    "        print(\"자기장 생성기의 좌표는({},{})입니다. 오늘은 치킨이닭!\".format(mfX,mfY))\n",
    "        break\n",
    "    elif(tempDistance <= mfSize):\n",
    "        print(\"({},{})은 자기장 안입니다.\".format(myX,myY),end=\" \")\n",
    "    else:\n",
    "        print(\"({},{})은 자기장 밖입니다.\".format(myX,myY),end=\" \")\n",
    "    \n",
    "    if(tempDistance > distance):\n",
    "        distance = tempDistance\n",
    "        print(\"자기장 생성기에서 멀어졌습니다.(크기{})\".format(mfSize))\n",
    "    elif(tempDistance < distance):\n",
    "        distance = tempDistance\n",
    "        print(\"자기장 생성기에 가까워졌습니다.(크기{})\".format(mfSize))\n",
    "    else:\n",
    "        distance = tempDistance\n",
    "        print(\"자기장 생성기에서 같은 거리입니다.(크기{})\".format(mfSize))\n",
    "        \n",
    "    mfSize -= 0.5\n",
    "    \n",
    "if mfSize <= 0:\n",
    "    print(\"자기장 생성기를 찾지못했습니다. 자기장 생성기의 좌표는 ({},{})입니다. 오늘은 굶어야 합니다 ㅠㅠ\".format(mfX, mfY))"
   ]
  },
  {
   "cell_type": "code",
   "execution_count": 30,
   "id": "69d5a598",
   "metadata": {},
   "outputs": [
    {
     "name": "stdout",
     "output_type": "stream",
     "text": [
      "메뉴? (끝내려면 '종료') 국수\n",
      "메뉴? (끝내려면 '종료') 햄버거\n",
      "메뉴? (끝내려면 '종료') 야채\n",
      "그런 메뉴는 없습니다.\n",
      "메뉴? (끝내려면 '종료') 츄르\n",
      "그런 메뉴는 없습니다.\n",
      "메뉴? (끝내려면 '종료') 비빔밥\n",
      "메뉴? (끝내려면 '종료') 종료\n",
      "총액 18500원 입니다.\n"
     ]
    }
   ],
   "source": [
    "# 11\n",
    "menuDict = {\"국수\":6000,\"비빔밥\":8000,\"햄버거\":4500,\"국밥\":7500,\"스파게티\":11000,\"피자\":9900}\n",
    "count = 0\n",
    "menu = input(\"메뉴? (끝내려면 '종료') \")\n",
    "while menu != \"종료\":\n",
    "    if menu in menuDict:\n",
    "        count += menuDict[menu]\n",
    "    else:\n",
    "        print(\"그런 메뉴는 없습니다.\")\n",
    "    menu = input(\"메뉴? (끝내려면 '종료') \")\n",
    "print(\"총액 {}원 입니다.\".format(count))"
   ]
  },
  {
   "cell_type": "code",
   "execution_count": 43,
   "id": "e83d9633",
   "metadata": {},
   "outputs": [
    {
     "name": "stdout",
     "output_type": "stream",
     "text": [
      "년도는?20000\n",
      "윤년입니다.\n"
     ]
    }
   ],
   "source": [
    "# 실습 10.5_1\n",
    "n = int(input(\"년도는?\"))\n",
    "if ((n % 4 == 0) and (n % 100 != 0)) or (n % 400 == 0):\n",
    "    print(\"윤년입니다.\")\n",
    "else :\n",
    "    print(\"윤년이 아닙니다.\")"
   ]
  },
  {
   "cell_type": "code",
   "execution_count": 46,
   "id": "3402f1a4",
   "metadata": {},
   "outputs": [
    {
     "name": "stdout",
     "output_type": "stream",
     "text": [
      "number?1\n",
      "small. retry\n",
      "number?0\n",
      "small. retry\n",
      "number?14\n",
      "bigger. retry\n",
      "number?12\n",
      "bigger. retry\n",
      "number?10\n",
      "bigger. retry\n",
      "number?9\n",
      "bigger. retry\n",
      "number?8\n",
      "bigger. retry\n",
      "number?7\n",
      "bigger. retry\n",
      "number?5\n",
      "bigger. retry\n",
      "number?4\n",
      "right(9 trial)\n"
     ]
    }
   ],
   "source": [
    "# 실습 10.5_2\n",
    "import random\n",
    "\n",
    "count = 1\n",
    "randnum = random.randint(1,20)\n",
    "n = int(input(\"number?\"))\n",
    "while n != randnum:\n",
    "    if n > randnum:\n",
    "        print(\"bigger. retry\")\n",
    "    else:\n",
    "        print(\"small. retry\")\n",
    "    count += 1\n",
    "    n = int(input(\"number?\"))\n",
    "print(\"right(%d trial)\" % count)"
   ]
  },
  {
   "cell_type": "code",
   "execution_count": 58,
   "id": "a2b41b4b",
   "metadata": {},
   "outputs": [
    {
     "name": "stdout",
     "output_type": "stream",
     "text": [
      "2550\n"
     ]
    }
   ],
   "source": [
    "# 실습 10.5_3\n",
    "sum = 0\n",
    "for i in range(0,101,2):\n",
    "    sum += i\n",
    "print(sum)"
   ]
  },
  {
   "cell_type": "code",
   "execution_count": 74,
   "id": "cb826a64",
   "metadata": {},
   "outputs": [
    {
     "name": "stdout",
     "output_type": "stream",
     "text": [
      "3003\n"
     ]
    }
   ],
   "source": [
    "# 실습 10.5_4\n",
    "target = 0\n",
    "i = 1\n",
    "while target < 3000:\n",
    "    target += i\n",
    "    i += 1\n",
    "print(target)"
   ]
  }
 ],
 "metadata": {
  "kernelspec": {
   "display_name": "Python 3 (ipykernel)",
   "language": "python",
   "name": "python3"
  },
  "language_info": {
   "codemirror_mode": {
    "name": "ipython",
    "version": 3
   },
   "file_extension": ".py",
   "mimetype": "text/x-python",
   "name": "python",
   "nbconvert_exporter": "python",
   "pygments_lexer": "ipython3",
   "version": "3.9.12"
  }
 },
 "nbformat": 4,
 "nbformat_minor": 5
}
